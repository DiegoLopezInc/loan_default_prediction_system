{
 "cells": [
  {
   "cell_type": "markdown",
   "metadata": {},
   "source": [
    "### Test all notebooks"
   ]
  },
  {
   "cell_type": "code",
   "execution_count": null,
   "metadata": {},
   "outputs": [],
   "source": [
    "# Using papermill to run all notebooks\n",
    "%pip install --upgrade papermill"
   ]
  },
  {
   "cell_type": "code",
   "execution_count": null,
   "metadata": {},
   "outputs": [],
   "source": [
    "import os\n",
    "\n",
    "dir = os.getcwd()\n",
    "print(dir)"
   ]
  },
  {
   "cell_type": "code",
   "execution_count": null,
   "metadata": {},
   "outputs": [],
   "source": [
    "import papermill as pm\n",
    "import os\n",
    "\n",
    "examples_notebooks_dir = os.getcwd() + '/notebooks'\n",
    "\n",
    "for notebook in os.listdir(notebooks_dir):\n",
    "    try:\n",
    "        if notebook.endswith('.ipynb'):\n",
    "            input_notebook = os.path.join(notebooks_dir, notebook)\n",
    "            output_notebook = os.path.join(notebooks_dir, 'output_' + notebook)\n",
    "            pm.execute_notebook(input_notebook, output_notebook)\n",
    "    except Exception as e:\n",
    "        print(f\"Error executing notebook {notebook}: {str(e)}\")\n",
    "\n",
    "\n",
    "\n",
    "# Show progress"
   ]
  }
 ],
 "metadata": {
  "kernelspec": {
   "display_name": ".venv",
   "language": "python",
   "name": "python3"
  },
  "language_info": {
   "name": "python",
   "version": "3.12.6"
  }
 },
 "nbformat": 4,
 "nbformat_minor": 2
}
